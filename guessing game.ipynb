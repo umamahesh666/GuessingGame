{
 "cells": [
  {
   "cell_type": "code",
   "execution_count": 1,
   "id": "b4a8dc28",
   "metadata": {},
   "outputs": [
    {
     "name": "stdout",
     "output_type": "stream",
     "text": [
      "Welcome to guessing game\n",
      "Choose your level between Easy,Medium,Hardeasy\n",
      "You are to gusee a number between 1 and 10,and you have 6 guesses\n",
      "Enter guess2\n",
      "Congrats, You got it right\n",
      "Game Over!\n",
      "The random number was2\n",
      "Do you want to play again? YES/NOno\n",
      "Thanks for playing\n"
     ]
    }
   ],
   "source": [
    "import random\n",
    "\n",
    "def guessing_game(guesslimit,number):\n",
    "    random_number=random.randint(1,number)\n",
    "    try:\n",
    "        while guesslimit >0:\n",
    "            guess=int(input(\"Enter guess\"))\n",
    "            guesslimit -=1\n",
    "            if random_number == guess:\n",
    "                print(\"Congrats, You got it right\")\n",
    "                break\n",
    "            elif guess>number:\n",
    "                print(\"Your guess is out of range\")\n",
    "                print(f'You have {guesslimit} guesses left')\n",
    "            else:\n",
    "                print(\"Sorry, That was wrong!\")\n",
    "                print(f'You have {guesslimit} guesses left')\n",
    "        print(\"Game Over!\")\n",
    "        print(f'The random number was{random_number}')\n",
    "    except ValueError:\n",
    "        print('Only integers are allowed')\n",
    "def easy():\n",
    "    print(\"You are to gusee a number between 1 and 10,and you have 6 guesses\")\n",
    "    guessing_game(6,10)\n",
    "\n",
    "def medium():\n",
    "    print(\"You are to gusee a number between 1 and 20,and you have 4 guesses\")\n",
    "    guessing_game(4,20)\n",
    "\n",
    "def hard():\n",
    "    print(\"You are to gusee a number between 1 and 50,and you have 3 guesses\")\n",
    "    guessing_game(3,50)\n",
    "\n",
    "def try_again():\n",
    "    again=input(\"Do you want to play again? YES/NO\")\n",
    "    if again.upper() ==\"YES\":\n",
    "        welcome()\n",
    "    elif again.upper() == \"NO\":\n",
    "        print(\"Thanks for playing\")\n",
    "    else:\n",
    "        print(\"Wrong input\")\n",
    "        try_again()\n",
    "\n",
    "def welcome():\n",
    "    print(\"Welcome to guessing game\")\n",
    "    difficulty=input(\"Choose your level between Easy,Medium,Hard\")\n",
    "    if difficulty.upper() == \"EASY\":\n",
    "        easy()\n",
    "        try_again()\n",
    "    elif difficulty.upper() == \"MEDIUM\":\n",
    "        medium()\n",
    "        try_again()\n",
    "    elif difficulty.upper() == \"HARD\":\n",
    "        hard()\n",
    "        try_again()\n",
    "    else:\n",
    "        print(\"This is wrong input\")\n",
    "        welcome()\n",
    "\n",
    "welcome()    \n",
    "    "
   ]
  },
  {
   "cell_type": "code",
   "execution_count": null,
   "id": "c5522adb",
   "metadata": {},
   "outputs": [],
   "source": []
  }
 ],
 "metadata": {
  "kernelspec": {
   "display_name": "Python 3",
   "language": "python",
   "name": "python3"
  },
  "language_info": {
   "codemirror_mode": {
    "name": "ipython",
    "version": 3
   },
   "file_extension": ".py",
   "mimetype": "text/x-python",
   "name": "python",
   "nbconvert_exporter": "python",
   "pygments_lexer": "ipython3",
   "version": "3.8.8"
  }
 },
 "nbformat": 4,
 "nbformat_minor": 5
}
